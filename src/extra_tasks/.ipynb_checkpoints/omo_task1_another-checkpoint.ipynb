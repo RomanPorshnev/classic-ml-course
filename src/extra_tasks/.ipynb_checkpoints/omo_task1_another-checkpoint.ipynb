{
  "nbformat": 4,
  "nbformat_minor": 0,
  "metadata": {
    "colab": {
      "provenance": []
    },
    "kernelspec": {
      "name": "python3",
      "display_name": "Python 3"
    },
    "language_info": {
      "name": "python"
    }
  },
  "cells": [
    {
      "cell_type": "code",
      "execution_count": null,
      "metadata": {
        "id": "6tlyzNrMrSWt"
      },
      "outputs": [],
      "source": [
        "import numpy as np\n",
        "from nltk.tokenize import WordPunctTokenizer\n",
        "\n",
        "\n",
        "class DumbTextEncoder:\n",
        "    def __init__(self, source_text: str):\n",
        "        self.tokenizer = WordPunctTokenizer()\n",
        "        self.tokens = set(\n",
        "            map(str.lower, self.tokenizer.tokenize(source_text))\n",
        "        )\n",
        "\n",
        "        # Index method\n",
        "        self.index_vocab = {  # For Encoder\n",
        "            token: i for i, token in enumerate(self.tokens)\n",
        "        }\n",
        "        self.inv_index_vocab = {  # For Decoder\n",
        "            value: key\n",
        "            for key, value in self.index_vocab.items()\n",
        "        }\n",
        "\n",
        "        # One hot method\n",
        "        self.onehot_vocab = {\n",
        "            token: np.eye(len(self.tokens))[i]\n",
        "            for i, token in enumerate(self.tokens)\n",
        "        }\n",
        "\n",
        "\n",
        "    def encode(self, text: str, strategy: str):\n",
        "        tokens = list(\n",
        "            map(str.lower, self.tokenizer.tokenize(text))\n",
        "        )\n",
        "        vocab = (\n",
        "            self.index_vocab\n",
        "            if strategy == 'index'\n",
        "            else self.onehot_vocab\n",
        "            if strategy == 'one_hot'\n",
        "            else None\n",
        "        )\n",
        "        unk_value = (\n",
        "            -1\n",
        "            if strategy == 'index'\n",
        "            else np.zeros(len(self.tokens))\n",
        "        )\n",
        "        return [\n",
        "            vocab.get(token, unk_value)\n",
        "            for token in tokens\n",
        "        ]\n",
        "\n",
        "    def decode(self, numbers):\n",
        "        return ' '.join([\n",
        "            self.inv_index_vocab.get(num, 'UNK')\n",
        "            for num in numbers\n",
        "        ])\n"
      ]
    },
    {
      "cell_type": "code",
      "source": [
        "dumb_encoder = DumbTextEncoder('Hello how are you? What is you name?')\n",
        "\n",
        "dumb_encoder.tokens"
      ],
      "metadata": {
        "colab": {
          "base_uri": "https://localhost:8080/"
        },
        "id": "sfADurE-6tyA",
        "outputId": "547c971e-8411-4335-e8bb-b8d9ac6e864d"
      },
      "execution_count": null,
      "outputs": [
        {
          "output_type": "execute_result",
          "data": {
            "text/plain": [
              "{'?', 'are', 'hello', 'how', 'is', 'name', 'what', 'you'}"
            ]
          },
          "metadata": {},
          "execution_count": 126
        }
      ]
    },
    {
      "cell_type": "code",
      "source": [
        "dumb_encoder.encode('Hi, How are you? My name is Daniel Johnston.', 'index')"
      ],
      "metadata": {
        "colab": {
          "base_uri": "https://localhost:8080/"
        },
        "id": "kxFPP2wE2TSA",
        "outputId": "5e485139-58b0-4c72-ad9a-513512692aa1"
      },
      "execution_count": null,
      "outputs": [
        {
          "output_type": "execute_result",
          "data": {
            "text/plain": [
              "[-1, -1, 0, 4, 5, 7, -1, 3, 2, -1, -1, -1]"
            ]
          },
          "metadata": {},
          "execution_count": 127
        }
      ]
    },
    {
      "cell_type": "code",
      "source": [
        "dumb_encoder.encode('Hi, How are you? My name is Daniel Johnston.', 'one_hot')"
      ],
      "metadata": {
        "colab": {
          "base_uri": "https://localhost:8080/"
        },
        "id": "VbgqHYub67CJ",
        "outputId": "a367bd68-0038-4a66-9d21-24f379655987"
      },
      "execution_count": null,
      "outputs": [
        {
          "output_type": "execute_result",
          "data": {
            "text/plain": [
              "[array([0., 0., 0., 0., 0., 0., 0., 0.]),\n",
              " array([0., 0., 0., 0., 0., 0., 0., 0.]),\n",
              " array([1., 0., 0., 0., 0., 0., 0., 0.]),\n",
              " array([0., 0., 0., 0., 1., 0., 0., 0.]),\n",
              " array([0., 0., 0., 0., 0., 1., 0., 0.]),\n",
              " array([0., 0., 0., 0., 0., 0., 0., 1.]),\n",
              " array([0., 0., 0., 0., 0., 0., 0., 0.]),\n",
              " array([0., 0., 0., 1., 0., 0., 0., 0.]),\n",
              " array([0., 0., 1., 0., 0., 0., 0., 0.]),\n",
              " array([0., 0., 0., 0., 0., 0., 0., 0.]),\n",
              " array([0., 0., 0., 0., 0., 0., 0., 0.]),\n",
              " array([0., 0., 0., 0., 0., 0., 0., 0.])]"
            ]
          },
          "metadata": {},
          "execution_count": 128
        }
      ]
    },
    {
      "cell_type": "code",
      "source": [
        "dumb_encoder.decode([-1, -1, 0, 4, 5, 7, -1, 3, 2, -1, -1, -1])"
      ],
      "metadata": {
        "colab": {
          "base_uri": "https://localhost:8080/",
          "height": 37
        },
        "id": "WzvxhtcD69JU",
        "outputId": "76b3d71f-d307-4215-d5b8-ee5952c1f671"
      },
      "execution_count": null,
      "outputs": [
        {
          "output_type": "execute_result",
          "data": {
            "text/plain": [
              "'UNK UNK how are you ? UNK name is UNK UNK UNK'"
            ],
            "application/vnd.google.colaboratory.intrinsic+json": {
              "type": "string"
            }
          },
          "metadata": {},
          "execution_count": 130
        }
      ]
    },
    {
      "cell_type": "code",
      "source": [],
      "metadata": {
        "id": "pRWdCBys7EaG"
      },
      "execution_count": null,
      "outputs": []
    }
  ]
}